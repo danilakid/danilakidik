{
  "nbformat": 4,
  "nbformat_minor": 0,
  "metadata": {
    "colab": {
      "provenance": []
    },
    "kernelspec": {
      "name": "python3",
      "display_name": "Python 3"
    },
    "language_info": {
      "name": "python"
    }
  },
  "cells": [
    {
      "cell_type": "code",
      "execution_count": 1,
      "metadata": {
        "colab": {
          "base_uri": "https://localhost:8080/"
        },
        "id": "_JwPuf03g7bL",
        "outputId": "71bc5477-8070-42ed-ef6c-f7c3ee7fd6b9"
      },
      "outputs": [
        {
          "output_type": "stream",
          "name": "stdout",
          "text": [
            "1. Развернутый массив: [ 9  4 11  8  5  2]\n",
            "2. Максимальный нечетный элемент: 11\n",
            "3. Массив с замененными нечетными элементами: [  2 999   8 999   4 999]\n",
            "4. Массив первых n нечетных чисел в порядке убывания: [9 7 5 3 1]\n",
            "5. Самое близкое и самое дальнее числа: 8 999\n",
            "6. Первообразная полинома: [1. 2. 0. 1. 0.]\n",
            "7. Первая производная в точке 2.5: 105.0\n"
          ]
        }
      ],
      "source": [
        "import numpy as np\n",
        "\n",
        "# Заданный одномерный массив\n",
        "arr = np.array([2, 5, 8, 11, 4, 9])\n",
        "\n",
        "# 1. Развернуть массив\n",
        "reversed_arr = np.flip(arr)\n",
        "print(\"1. Развернутый массив:\", reversed_arr)\n",
        "\n",
        "# 2. Найти максимальный нечетный элемент\n",
        "max_odd_element = np.max(arr[arr % 2 != 0])\n",
        "print(\"2. Максимальный нечетный элемент:\", max_odd_element)\n",
        "\n",
        "# 3. Заменить все нечетные элементы на любимое число (например, 999)\n",
        "favorite_number = 999\n",
        "arr[arr % 2 != 0] = favorite_number\n",
        "print(\"3. Массив с замененными нечетными элементами:\", arr)\n",
        "\n",
        "# 4. Создать массив первых n нечетных чисел в порядке убывания\n",
        "n = 5\n",
        "odd_numbers_descending = np.arange(2 * n - 1, 0, -2)\n",
        "print(\"4. Массив первых n нечетных чисел в порядке убывания:\", odd_numbers_descending)\n",
        "\n",
        "# 5. Найти самое близкое и самое дальнее числа к данному\n",
        "given_number = 7.5\n",
        "closest_number = arr[np.abs(arr - given_number).argmin()]\n",
        "farthest_number = arr[np.abs(arr - given_number).argmax()]\n",
        "print(\"5. Самое близкое и самое дальнее числа:\", closest_number, farthest_number)\n",
        "\n",
        "# 6. Вычислить первообразную полинома\n",
        "coefficients = np.array([4, 6, 0, 1])\n",
        "integral_coefficients = np.polyint(coefficients)\n",
        "print(\"6. Первообразная полинома:\", integral_coefficients)\n",
        "\n",
        "# 7. Посчитать первую производную для заданного полинома в заданной точке\n",
        "derivative_point = 2.5\n",
        "derivative_at_point = np.polyder(coefficients)\n",
        "derivative_value = np.polyval(derivative_at_point, derivative_point)\n",
        "print(f\"7. Первая производная в точке {derivative_point}:\", derivative_value)\n"
      ]
    }
  ]
}